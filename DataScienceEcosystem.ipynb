{
 "cells": [
  {
   "cell_type": "markdown",
   "id": "0f7d21a3",
   "metadata": {},
   "source": [
    "##[EXERCISE 2: CREATE MARKDOWN CELL WITH H1 STYLE HEADING TITLE.]##\n",
    "\n",
    "# DATA SCIENCE TOOLS AND ECOSYSTEM"
   ]
  },
  {
   "cell_type": "markdown",
   "id": "ebc62f4f",
   "metadata": {},
   "source": [
    "##[EXERCISE 3: CREATE MARKDOWN CELL FOR INTRO]##\n",
    "\n",
    "In this notebook, Data Science Tools and Ecosystem are summarized."
   ]
  },
  {
   "cell_type": "markdown",
   "id": "19aa5047",
   "metadata": {},
   "source": [
    "##[EXERCISE 10: INSERT MARKDOWN CELL TO LIST OBJECTIVES]##\n",
    "\n",
    "**Objectives:**\n",
    "\n",
    "+ List popular languages\n",
    "+ List common libraries\n",
    "+ Learn formatting for markdown cells"
   ]
  },
  {
   "cell_type": "markdown",
   "id": "2ec7c4ae",
   "metadata": {},
   "source": [
    "##[EXERCISE 4: CREATE MARKDOWN CELL WITH ORDERED LIST FOR POPULAR DATA SCIENCE LANGUAGES]##\n",
    "\n",
    "Some of the popular languages that Data Scientists use are:\n",
    "1. Python\n",
    "2. R\n",
    "3. SQL"
   ]
  },
  {
   "cell_type": "markdown",
   "id": "dae758b1",
   "metadata": {},
   "source": [
    "##[EXERCISE 5: CREATE MARKDOWN CELL WITH COMMON DATA SCIENCE LIBRARIES]##\n",
    "\n",
    "Some of the commonly used librariries used by Data Scientists include:\n",
    "\n",
    "1. Pandas\n",
    "2. Numpy\n",
    "3. Matplotlib"
   ]
  },
  {
   "cell_type": "markdown",
   "id": "03fd8486",
   "metadata": {},
   "source": [
    "##[Exercise 6: DS Tools]##\n",
    " | Data Science Tools |\n",
    " | ---------------- |\n",
    " | Tensor Flow |\n",
    " | Apache Spark |\n",
    " | RStudio |"
   ]
  },
  {
   "cell_type": "markdown",
   "id": "0c75f874",
   "metadata": {},
   "source": [
    "##[Exercise 7: CREATE MARKDOWN CELL INTRODUCING ARITHMETIC EXPRESSIONS]##\n",
    "### Below are a few examples of evaluating arithmetic expressions in Python\n"
   ]
  },
  {
   "cell_type": "code",
   "execution_count": 1,
   "id": "fd39e355",
   "metadata": {},
   "outputs": [
    {
     "data": {
      "text/plain": [
       "17"
      ]
     },
     "execution_count": 1,
     "metadata": {},
     "output_type": "execute_result"
    }
   ],
   "source": [
    "##[EXERCISE 8: CREATE CODE CELL TO MULTIPLY AND ADD NUMBERS]##\n",
    "\n",
    "#This is a simple arithmetic expression to multiply than add integers:\n",
    "\n",
    "(3*4)+5"
   ]
  },
  {
   "cell_type": "code",
   "execution_count": 3,
   "id": "50fdf466",
   "metadata": {},
   "outputs": [
    {
     "data": {
      "text/plain": [
       "3.3333333333333335"
      ]
     },
     "execution_count": 3,
     "metadata": {},
     "output_type": "execute_result"
    }
   ],
   "source": [
    "##[EXERCISE 9: CREATE CODE CELL TO CONVERT MINS TO HOURS]##\n",
    "\n",
    "#This will convert 200 minnutes to hours by dividing by 60\n",
    "\n",
    "200 / 60\n"
   ]
  },
  {
   "cell_type": "markdown",
   "id": "302e03b4",
   "metadata": {},
   "source": [
    "##[EXERCISE 11: CREATE MARKDOWN CELL WITH AUTHOR'S NAME]##\n",
    "## Author\n",
    "Salman Rahim"
   ]
  }
 ],
 "metadata": {
  "kernelspec": {
   "display_name": "Python 3 (ipykernel)",
   "language": "python",
   "name": "python3"
  },
  "language_info": {
   "codemirror_mode": {
    "name": "ipython",
    "version": 3
   },
   "file_extension": ".py",
   "mimetype": "text/x-python",
   "name": "python",
   "nbconvert_exporter": "python",
   "pygments_lexer": "ipython3",
   "version": "3.11.5"
  }
 },
 "nbformat": 4,
 "nbformat_minor": 5
}
